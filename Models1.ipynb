{
 "cells": [
  {
   "cell_type": "code",
   "execution_count": 1,
   "id": "8230728a-96ba-4403-bc59-5b74476e4f5f",
   "metadata": {},
   "outputs": [],
   "source": [
    "import math\n",
    "import numpy as np\n",
    "import pandas as pd\n",
    "\n",
    "from glob import glob\n",
    "from tqdm.auto import tqdm\n",
    "from numba import njit\n",
    "from matplotlib import pyplot as plt\n",
    "\n",
    "import plotly.express as px\n",
    "\n",
    "# !pip install duckdb"
   ]
  },
  {
   "cell_type": "code",
   "execution_count": 2,
   "id": "f8724499-9e17-43d1-972c-4e256db4c1b4",
   "metadata": {},
   "outputs": [],
   "source": [
    "trainPath = \"D:\\\\Project\\\\SourceTree\\\\DACON\\\\Data\\\\train.csv\"\n",
    "testPath = \"D:\\\\Project\\\\SourceTree\\\\DACON\\\\Data\\\\test.csv\""
   ]
  },
  {
   "cell_type": "code",
   "execution_count": 3,
   "id": "8383dba5-f9b4-4750-a8eb-b5c1bfee6ecd",
   "metadata": {},
   "outputs": [
    {
     "data": {
      "text/plain": [
       "(             ID      F01      F02      F03   F04      F05  F06      F07  \\\n",
       " 0  TEST_0000000      NaN      NaN  IAGJDOH   NaN      NaN   -1  WBNHHNS   \n",
       " 1  TEST_0000001  SDVLQID  VDDLZCR  DTZFPRW   1.0  KJLEQJC    3  OWLMRBR   \n",
       " 2  TEST_0000002  XXQINZY  AXQDKZD  IAGJDOH  12.0  NFKKMGD    2  ILCWUTM   \n",
       " 3  TEST_0000003  JCDXFYU  PILDDJU  IAGJDOH  22.0  LFPUEOV  209  HUHNWCJ   \n",
       " 4  TEST_0000004  DZPQPXK  HKSCOJF      NaN   2.0  FMKTHYA    2  CFQLINN   \n",
       " \n",
       "        F08      F09  ...      F30      F31      F32  F33      F34      F35  \\\n",
       " 0  MIGYEEG  NENNAGQ  ...  MFPUCBU  GTISJWW   1144.0  2.0      NaN  IRUDRFB   \n",
       " 1  MIGYEEG  UKFZEAD  ...  NZGEZLW  GTISJWW  44364.0  0.0  ORGHLQN  IRUDRFB   \n",
       " 2  LPYPUNA  NENNAGQ  ...  VHXETCF  GTISJWW     79.0  1.0  WRRYBLO  IRUDRFB   \n",
       " 3  FTPHMPQ  FPCZMEO  ...  NZGEZLW  KHZNEZF     44.0  9.0  QMOULXS  IRUDRFB   \n",
       " 4  FTPHMPQ  YOPLVLN  ...  FGOVFJM  WCPHYPZ      1.0  2.0  WZAQBGE  IRUDRFB   \n",
       " \n",
       "    F36      F37  F38      F39  \n",
       " 0  NaN  VINCJKA  0.0  AWWBMDJ  \n",
       " 1  NaN  KSGNDBR  0.0  OJTGSWO  \n",
       " 2  NaN  VINCJKA  0.0  INBFMRT  \n",
       " 3  8.0  RWQBLLR  0.0  OYSGPBR  \n",
       " 4  0.0  XJLBFMB  1.0  OYSGPBR  \n",
       " \n",
       " [5 rows x 40 columns],\n",
       " 4538541)"
      ]
     },
     "execution_count": 3,
     "metadata": {},
     "output_type": "execute_result"
    }
   ],
   "source": [
    "# train = pd.read_csv(trainPath)\n",
    "# train.head(), len(train)\n",
    "\n",
    "test = pd.read_csv(testPath)\n",
    "test.head(), len(test)"
   ]
  },
  {
   "cell_type": "code",
   "execution_count": null,
   "id": "c87e9cf6-96cc-4662-ad7a-53f865fcfb0f",
   "metadata": {},
   "outputs": [],
   "source": [
    "import duckdb\n",
    "import random\n",
    "\n",
    "con = duckdb.connect()\n",
    "\n",
    "len_train = 28605390\n",
    "chunk_size = 30000\n",
    "current_chunk = 0 \n",
    "\n",
    "# 선택된 인덱스를 추적하기 위한 집합 초기화\n",
    "selected_indices = set()\n",
    "\n",
    "# CSV 파일을 로드하고 임시 테이블을 생성\n",
    "con.execute(f\"\"\"\n",
    "CREATE OR REPLACE TEMP TABLE train AS\n",
    "SELECT *, row_number() OVER () as idx\n",
    "FROM read_csv_auto('{trainPath}')\n",
    "\"\"\")\n",
    "\n",
    "def load_random_chunk(con, path, chunk_size, total_data, selected_indices):\n",
    "    # 전체 인덱스 범위에서 선택되지 않은 인덱스를 구함\n",
    "    available_indices = list(set(range(total_data)) - selected_indices)\n",
    "\n",
    "    # 선택되지 않은 인덱스에서 랜덤으로 chunk_size 만큼 샘플링\n",
    "    sampled_indices = random.sample(available_indices, chunk_size)\n",
    "\n",
    "    # sampling된 인덱스를 selected_indices에 추가\n",
    "    selected_indices.update(sampled_indices)\n",
    "    \n",
    "    # query\n",
    "    query = f\"\"\"\n",
    "    SELECT *\n",
    "    FROM train\n",
    "    WHERE idx IN ({', '.join(map(str, sampled_indices))})\n",
    "    \"\"\"\n",
    "    return con.query(query).df()\n",
    "\n",
    "# 필요에 따라 반복하여 원하는 수만큼 샘플링 \n",
    "train_chunks_list = list()\n",
    "n = int(len_train / chunk_size) # 953 정도\n",
    "\n",
    "n = 10 ########### 임시\n",
    "for i in range(n):\n",
    "    train_chunk = load_random_chunk(con, trainPath, chunk_size, len_train, selected_indices)\n",
    "    train_chunks_list.append(train_chunk)"
   ]
  },
  {
   "cell_type": "code",
   "execution_count": 5,
   "id": "8eca0aa2-f043-4756-abf8-c789d87caa44",
   "metadata": {},
   "outputs": [],
   "source": [
    "import pandas as pd\n",
    "import category_encoders as ce\n",
    "\n",
    "# 전체 데이터를 하나로 결합하여 인코더 피팅\n",
    "combined_train_data = pd.concat(train_chunks_list, ignore_index=True)\n",
    "\n",
    "# 범주형 변수의 목록을 가져오기\n",
    "encoding_target = list(combined_train_data.dtypes[combined_train_data.dtypes == \"object\"].index)\n",
    "\n",
    "# fitting of CountEncoder\n",
    "enc = ce.CountEncoder(cols=encoding_target).fit(combined_train_data)\n",
    "\n",
    "# 각 세트에 대해 동일한 encoding 적용\n",
    "encoded_train_set_list = [enc.transform(train_set) for train_set in train_chunks_list]"
   ]
  },
  {
   "cell_type": "code",
   "execution_count": 8,
   "id": "f906ebab-ad0f-421d-891a-98a15df54cc7",
   "metadata": {},
   "outputs": [
    {
     "data": {
      "text/plain": [
       "Index(['ID', 'Click', 'F01', 'F02', 'F03', 'F04', 'F05', 'F06', 'F07', 'F08',\n",
       "       'F09', 'F10', 'F11', 'F12', 'F13', 'F14', 'F15', 'F16', 'F17', 'F18',\n",
       "       'F19', 'F20', 'F21', 'F22', 'F23', 'F24', 'F25', 'F26', 'F27', 'F28',\n",
       "       'F29', 'F30', 'F31', 'F32', 'F33', 'F34', 'F35', 'F36', 'F37', 'F38',\n",
       "       'F39', 'idx'],\n",
       "      dtype='object')"
      ]
     },
     "execution_count": 8,
     "metadata": {},
     "output_type": "execute_result"
    }
   ],
   "source": [
    "train.columns"
   ]
  },
  {
   "cell_type": "code",
   "execution_count": 12,
   "id": "2f5ecfa9-e912-420a-8117-8890700fd5ca",
   "metadata": {},
   "outputs": [],
   "source": [
    "columns_set = ['ID', 'Click', \n",
    "                              'F01', 'F02', 'F03', 'F04', 'F05', 'F06', 'F07', 'F08', 'F09', 'F10', \n",
    "                              'F11', 'F12', 'F13', 'F14', 'F15', 'F16', 'F17', 'F18', 'F19', 'F20', \n",
    "                              'F21', 'F22', 'F23', 'F24', 'F25', 'F26', 'F27', 'F28', 'F29', 'F30', \n",
    "                              'F31', 'F32', 'F33', 'F34', 'F35', 'F36', 'F37', 'F38', 'F39']"
   ]
  },
  {
   "cell_type": "code",
   "execution_count": 13,
   "id": "60672824-942d-4821-8aa5-ce33d1a03129",
   "metadata": {},
   "outputs": [],
   "source": [
    "train = encoded_train_set_list[0]\n",
    "\n",
    "# Select x, y\n",
    "train_x = train.drop(columns=columns_set)\n",
    "train_y = train['Click']\n"
   ]
  },
  {
   "cell_type": "code",
   "execution_count": 15,
   "id": "e0b133d8-4b58-4db9-951e-6601ed33e150",
   "metadata": {},
   "outputs": [],
   "source": [
    "# Fill NaN\n",
    "for col in train_x.columns:\n",
    "    if train_x[col].isnull().sum() != 0:\n",
    "        train_x[col].fillna(0, inplace=True)\n",
    "        # test_x[col].fillna(0, inplace=True)\n"
   ]
  },
  {
   "cell_type": "markdown",
   "id": "d28ef052-38c9-4ccd-bd39-6eca7f4027eb",
   "metadata": {},
   "source": [
    "## Adaboost"
   ]
  },
  {
   "cell_type": "code",
   "execution_count": 16,
   "id": "2910b7cf-e976-4b7f-b681-f006ee803e7e",
   "metadata": {
    "scrolled": true
   },
   "outputs": [
    {
     "name": "stdout",
     "output_type": "stream",
     "text": [
      "0th Accuracy: 0.8029\n",
      "1th Accuracy: 0.8050\n",
      "2th Accuracy: 0.8063\n",
      "3th Accuracy: 0.8037\n",
      "4th Accuracy: 0.8047\n",
      "5th Accuracy: 0.8040\n",
      "6th Accuracy: 0.8057\n",
      "7th Accuracy: 0.8060\n",
      "8th Accuracy: 0.8035\n",
      "9th Accuracy: 0.8045\n"
     ]
    }
   ],
   "source": [
    "from sklearn.ensemble import AdaBoostClassifier\n",
    "from sklearn.metrics import accuracy_score, confusion_matrix\n",
    "\n",
    "#---------------------------------#\n",
    "#---# AdaBoostClassifier 성능 #---#\n",
    "#---------------------------------#\n",
    "\n",
    "model = AdaBoostClassifier(n_estimators=100, random_state=42)\n",
    "model.fit(train_x, train_y)\n",
    "\n",
    "\n",
    "for i in range(len(encoded_train_set_list)):\n",
    "    test = encoded_train_set_list[i]\n",
    "    test_x = test.drop(columns=columns_set)\n",
    "    test_y = test['Click']\n",
    "\n",
    "    for col in train_x.columns:\n",
    "        if test_x[col].isnull().sum() != 0:\n",
    "            test_x[col].fillna(0, inplace=True)\n",
    "    \n",
    "    pred_y = model.predict(test_x)\n",
    "\n",
    "    # 성능 평가\n",
    "    accuracy = accuracy_score(test_y, pred_y)\n",
    "    print(f\"{i}th Accuracy: {accuracy:.4f}\")"
   ]
  },
  {
   "cell_type": "markdown",
   "id": "1b8d3ce5-8267-4a8f-ad4f-a80a2eb449ca",
   "metadata": {},
   "source": [
    "## RandomForest"
   ]
  },
  {
   "cell_type": "code",
   "execution_count": 19,
   "id": "fdd346c5-d6de-4623-b2ae-c989a400e09a",
   "metadata": {},
   "outputs": [
    {
     "name": "stdout",
     "output_type": "stream",
     "text": [
      "0th Accuracy: 0.8065\n",
      "1th Accuracy: 0.8027\n",
      "2th Accuracy: 0.8049\n",
      "3th Accuracy: 0.8016\n",
      "4th Accuracy: 0.8029\n",
      "5th Accuracy: 0.8021\n",
      "6th Accuracy: 0.8040\n",
      "7th Accuracy: 0.8037\n",
      "8th Accuracy: 0.8013\n",
      "9th Accuracy: 0.8024\n"
     ]
    }
   ],
   "source": [
    "from sklearn.ensemble import RandomForestClassifier\n",
    "from sklearn.metrics import accuracy_score, confusion_matrix\n",
    "\n",
    "#---------------------------------#\n",
    "#---# AdaBoostClassifier 성능 #---#\n",
    "#---------------------------------#\n",
    "\n",
    "# Fill NaN\n",
    "for col in train_x.columns:\n",
    "    if train_x[col].isnull().sum() != 0:\n",
    "        train_x[col].fillna(0, inplace=True)\n",
    "        # test_x[col].fillna(0, inplace=True)\n",
    "\n",
    "model = RandomForestClassifier(n_estimators=1000, max_depth=18, random_state=0)\n",
    "model.fit(train_x, train_y)\n",
    "\n",
    "\n",
    "for i in range(len(encoded_train_set_list)):\n",
    "    test = encoded_train_set_list[i]\n",
    "    test_x = test.drop(columns=columns_set)\n",
    "    test_y = test['Click']\n",
    "\n",
    "    for col in train_x.columns:\n",
    "        if test_x[col].isnull().sum() != 0:\n",
    "            test_x[col].fillna(0, inplace=True)\n",
    "    \n",
    "    pred_y = model.predict(test_x)\n",
    "\n",
    "    # 성능 평가\n",
    "    accuracy = accuracy_score(test_y, pred_y)\n",
    "    print(f\"{i}th Accuracy: {accuracy:.4f}\")"
   ]
  },
  {
   "cell_type": "markdown",
   "id": "7233086b-d257-4547-993c-b9e74961801b",
   "metadata": {},
   "source": [
    "## Support Vector Machine"
   ]
  },
  {
   "cell_type": "code",
   "execution_count": 28,
   "id": "d801e45a-10a5-47ce-8d17-3da223c7d0db",
   "metadata": {},
   "outputs": [
    {
     "name": "stdout",
     "output_type": "stream",
     "text": [
      "0th Accuracy: 0.8027\n",
      "1th Accuracy: 0.8053\n",
      "2th Accuracy: 0.8067\n",
      "3th Accuracy: 0.8040\n",
      "4th Accuracy: 0.8049\n",
      "5th Accuracy: 0.8041\n",
      "6th Accuracy: 0.8059\n",
      "7th Accuracy: 0.8062\n",
      "8th Accuracy: 0.8036\n",
      "9th Accuracy: 0.8047\n"
     ]
    }
   ],
   "source": [
    "from sklearn import svm\n",
    "from sklearn.metrics import accuracy_score, confusion_matrix\n",
    "\n",
    "#---------------------------------#\n",
    "#---# AdaBoostClassifier 성능 #---#\n",
    "#---------------------------------#\n",
    "\n",
    "# Fill NaN\n",
    "for col in train_x.columns:\n",
    "    if train_x[col].isnull().sum() != 0:\n",
    "        train_x[col].fillna(0, inplace=True)\n",
    "        # test_x[col].fillna(0, inplace=True)\n",
    "\n",
    "model = svm.SVC(decision_function_shape='ovo')\n",
    "model.fit(train_x, train_y)\n",
    "\n",
    "\n",
    "for i in range(len(encoded_train_set_list)):\n",
    "    test = encoded_train_set_list[i]\n",
    "    test_x = test.drop(columns=columns_set)\n",
    "    test_y = test['Click']\n",
    "\n",
    "    for col in train_x.columns:\n",
    "        if test_x[col].isnull().sum() != 0:\n",
    "            test_x[col].fillna(0, inplace=True)\n",
    "    \n",
    "    pred_y = model.predict(test_x)\n",
    "\n",
    "    # 성능 평가\n",
    "    accuracy = accuracy_score(test_y, pred_y)\n",
    "    print(f\"{i}th Accuracy: {accuracy:.4f}\")"
   ]
  },
  {
   "cell_type": "code",
   "execution_count": null,
   "id": "e4c75fb6-7d76-4c14-b2e2-fe17f1a28cc4",
   "metadata": {},
   "outputs": [],
   "source": []
  }
 ],
 "metadata": {
  "kernelspec": {
   "display_name": "Python 3 (ipykernel)",
   "language": "python",
   "name": "python3"
  },
  "language_info": {
   "codemirror_mode": {
    "name": "ipython",
    "version": 3
   },
   "file_extension": ".py",
   "mimetype": "text/x-python",
   "name": "python",
   "nbconvert_exporter": "python",
   "pygments_lexer": "ipython3",
   "version": "3.11.7"
  }
 },
 "nbformat": 4,
 "nbformat_minor": 5
}
